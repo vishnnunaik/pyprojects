{
  "nbformat": 4,
  "nbformat_minor": 0,
  "metadata": {
    "colab": {
      "name": "Breast Cancer Detection.ipynb",
      "provenance": []
    },
    "kernelspec": {
      "name": "python3",
      "display_name": "Python 3"
    },
    "language_info": {
      "name": "python"
    }
  },
  "cells": [
    {
      "cell_type": "code",
      "metadata": {
        "colab": {
          "base_uri": "https://localhost:8080/"
        },
        "id": "PM513SZrH9zh",
        "outputId": "1d3e6d87-f358-443a-c5bb-be781565b831"
      },
      "source": [
        "#Breast Cancer Detection with Logistic Regression\n",
        "\n",
        "#importing Libraries\n",
        "\n",
        "import numpy as np\n",
        "import matplotlib.pyplot as plt\n",
        "import pandas as pd\n",
        "import sklearn.datasets\n",
        "\n",
        "#Getting the DataSet\n",
        "\n",
        "breast_cancer = sklearn.datasets.load_breast_cancer()\n",
        "\n",
        "#print(breast_cancer)\n",
        "\n",
        "X = breast_cancer.data\n",
        "Y = breast_cancer.target\n",
        "\n",
        "#print(X)\n",
        "\n",
        "#print(Y)\n",
        "\n",
        "#print(X.shape, Y.shape)\n",
        "\n",
        "\n",
        "data = pd.DataFrame(breast_cancer.data, columns=breast_cancer.feature_names)\n",
        "\n",
        "data['class'] = breast_cancer.target\n",
        "\n",
        "data.head()\n",
        "data.describe()\n",
        "\n",
        "\n",
        "print(data['class'].value_counts())\n",
        "\n",
        "print(breast_cancer.target_names)\n",
        "\n",
        "data.groupby('class').mean()\n",
        "\n",
        "#Train and Test Split\n",
        "\n",
        "from sklearn.model_selection import train_test_split\n",
        "\n",
        "X_train, X_test, Y_train, Y_test = train_test_split(X , Y)\n",
        "\n",
        "print(Y.shape, Y_test.shape, Y_train.shape)\n",
        "\n",
        "print(X.shape, X_test.shape, Y_train.shape)\n",
        "\n",
        "X_train, X_test, Y_train, Y_test = train_test_split(X , Y,test_size=0.1)\n",
        "\n",
        "\n",
        "#print(Y.shape, Y_test.shape, Y_train.shape)\n",
        "\n",
        "#print(X.shape, X_test.shape, Y_train.shape)\n",
        "\n",
        "\n",
        "#print(X.mean(), X_test.mean(), X_train.mean())\n",
        "\n",
        "\n",
        "#print(Y.mean(), Y_test.mean(), Y_train.mean())\n",
        "\n",
        "\n",
        "X_train, X_test, Y_train, Y_test = train_test_split(X , Y,test_size=0.1, stratify=Y, random_state=1)\n",
        "\n",
        "print(Y.mean(), Y_test.mean(), Y_train.mean())\n",
        "\n",
        "print(X_train)\n",
        "\n",
        "from sklearn.linear_model import LogisticRegression\n",
        "\n",
        "classifier = LogisticRegression() #loading logistic_regression model to variable classifier\n",
        "\n",
        "#training the model on training data\n",
        "\n",
        "classifier.fit(X_train, Y_train)\n",
        "\n",
        "from sklearn.metrics import accuracy_score\n",
        "\n",
        "prediction_on_training_data = classifier.predict(X_train)\n",
        "\n",
        "accuracy_on_training_data = accuracy_score(Y_train, prediction_on_training_data)\n",
        "\n",
        "print(\"Accuracy on training data: \", accuracy_on_training_data)"
      ],
      "execution_count": null,
      "outputs": [
        {
          "output_type": "stream",
          "name": "stdout",
          "text": [
            "1    357\n",
            "0    212\n",
            "Name: class, dtype: int64\n",
            "['malignant' 'benign']\n",
            "(569,) (143,) (426,)\n",
            "(569, 30) (143, 30) (426,)\n",
            "0.6274165202108963 0.631578947368421 0.626953125\n",
            "[[1.490e+01 2.253e+01 1.021e+02 ... 2.475e-01 2.866e-01 1.155e-01]\n",
            " [1.205e+01 1.463e+01 7.804e+01 ... 6.548e-02 2.747e-01 8.301e-02]\n",
            " [1.311e+01 1.556e+01 8.721e+01 ... 1.986e-01 3.147e-01 1.405e-01]\n",
            " ...\n",
            " [1.258e+01 1.840e+01 7.983e+01 ... 8.772e-03 2.505e-01 6.431e-02]\n",
            " [1.349e+01 2.230e+01 8.691e+01 ... 1.282e-01 2.871e-01 6.917e-02]\n",
            " [1.919e+01 1.594e+01 1.263e+02 ... 1.777e-01 2.443e-01 6.251e-02]]\n",
            "Accuracy on training data:  0.951171875\n"
          ]
        },
        {
          "output_type": "stream",
          "name": "stderr",
          "text": [
            "/usr/local/lib/python3.7/dist-packages/sklearn/linear_model/_logistic.py:940: ConvergenceWarning: lbfgs failed to converge (status=1):\n",
            "STOP: TOTAL NO. of ITERATIONS REACHED LIMIT.\n",
            "\n",
            "Increase the number of iterations (max_iter) or scale the data as shown in:\n",
            "    https://scikit-learn.org/stable/modules/preprocessing.html\n",
            "Please also refer to the documentation for alternative solver options:\n",
            "    https://scikit-learn.org/stable/modules/linear_model.html#logistic-regression\n",
            "  extra_warning_msg=_LOGISTIC_SOLVER_CONVERGENCE_MSG)\n"
          ]
        }
      ]
    },
    {
      "cell_type": "code",
      "source": [
        ""
      ],
      "metadata": {
        "id": "UEAi7I-1dBaK"
      },
      "execution_count": null,
      "outputs": []
    },
    {
      "cell_type": "code",
      "metadata": {
        "colab": {
          "base_uri": "https://localhost:8080/"
        },
        "id": "zO0f2a9s-1gp",
        "outputId": "36289445-a216-4a25-8734-effdcfbb3bf8"
      },
      "source": [
        "print(\"Accuracy on training data: \", accuracy_on_training_data)\n"
      ],
      "execution_count": null,
      "outputs": [
        {
          "output_type": "stream",
          "name": "stdout",
          "text": [
            "Accuracy on training data:  0.951171875\n"
          ]
        }
      ]
    },
    {
      "cell_type": "code",
      "metadata": {
        "colab": {
          "base_uri": "https://localhost:8080/"
        },
        "id": "BtXGKPkA--IQ",
        "outputId": "e549eb0e-5411-48da-ebbb-5b4eae76cb12"
      },
      "source": [
        "prediction_on_test_data = classifier.predict(X_test)\n",
        "\n",
        "accuracy_on_test_data = accuracy_score(Y_test, prediction_on_test_data)\n",
        "\n",
        "print(\"Accuracy on training data: \", accuracy_on_test_data)"
      ],
      "execution_count": null,
      "outputs": [
        {
          "output_type": "stream",
          "name": "stdout",
          "text": [
            "Accuracy on training data:  0.9298245614035088\n"
          ]
        }
      ]
    },
    {
      "cell_type": "code",
      "metadata": {
        "colab": {
          "base_uri": "https://localhost:8080/"
        },
        "id": "I8KyROoTAJWf",
        "outputId": "f731b6c0-2250-4181-8148-35b396b5c292"
      },
      "source": [
        "input_data = (17.99,10.38,122.8,1001,0.1184,0.2776,0.3001,0.1471,0.2419,0.07871,1.095,0.9053,8.589,153.4,0.006399,0.04904,0.05373,0.01587,0.03003,0.006193,25.38,17.33,184.6,2019,0.1622,0.6656,0.7119,0.2654,0.4601,0.1189)\n",
        "\n",
        "input_data_as_array = np.asarray(input_data)\n",
        "\n",
        "print(input_data)"
      ],
      "execution_count": null,
      "outputs": [
        {
          "output_type": "stream",
          "name": "stdout",
          "text": [
            "[1.799e+01 1.038e+01 1.228e+02 1.001e+03 1.184e-01 2.776e-01 3.001e-01\n",
            " 1.471e-01 2.419e-01 7.871e-02 1.095e+00 9.053e-01 8.589e+00 1.534e+02\n",
            " 6.399e-03 4.904e-02 5.373e-02 1.587e-02 3.003e-02 6.193e-03 2.538e+01\n",
            " 1.733e+01 1.846e+02 2.019e+03 1.622e-01 6.656e-01 7.119e-01 2.654e-01\n",
            " 4.601e-01 1.189e-01]\n"
          ]
        }
      ]
    },
    {
      "cell_type": "code",
      "metadata": {
        "colab": {
          "base_uri": "https://localhost:8080/"
        },
        "id": "lJH3cRgEBjkN",
        "outputId": "d5da7156-9990-4c3e-d7d9-26c0b236293d"
      },
      "source": [
        "input_data_reshaped = input_data_as_array.reshape(1,-1)\n",
        "\n",
        "prediction = classifier.predict(input_data_reshaped)\n",
        "\n",
        "print(prediction)\n",
        "\n",
        "if (prediction[0]==0):\n",
        "  print(\"The Breast Cancer is Malignant\")\n",
        "else:\n",
        "  print(\"The Breast Cancer is Beign\")  \n"
      ],
      "execution_count": null,
      "outputs": [
        {
          "output_type": "stream",
          "name": "stdout",
          "text": [
            "[0]\n",
            "The Breast Cancer is Malignant\n"
          ]
        }
      ]
    },
    {
      "cell_type": "markdown",
      "metadata": {
        "id": "BCxdQVxgLmQz"
      },
      "source": [
        ""
      ]
    }
  ]
}